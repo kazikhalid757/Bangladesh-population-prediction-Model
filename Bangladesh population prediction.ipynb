{
 "cells": [
  {
   "cell_type": "code",
   "execution_count": 99,
   "id": "b842eb18",
   "metadata": {},
   "outputs": [],
   "source": [
    "import pandas as pd\n",
    "import matplotlib.pyplot as plt\n",
    "from sklearn.linear_model import LinearRegression"
   ]
  },
  {
   "cell_type": "code",
   "execution_count": 105,
   "id": "22b81eb5",
   "metadata": {},
   "outputs": [
    {
     "data": {
      "text/html": [
       "<div>\n",
       "<style scoped>\n",
       "    .dataframe tbody tr th:only-of-type {\n",
       "        vertical-align: middle;\n",
       "    }\n",
       "\n",
       "    .dataframe tbody tr th {\n",
       "        vertical-align: top;\n",
       "    }\n",
       "\n",
       "    .dataframe thead th {\n",
       "        text-align: right;\n",
       "    }\n",
       "</style>\n",
       "<table border=\"1\" class=\"dataframe\">\n",
       "  <thead>\n",
       "    <tr style=\"text-align: right;\">\n",
       "      <th></th>\n",
       "      <th>Date(Year)</th>\n",
       "      <th>Population</th>\n",
       "      <th>Annual % Change</th>\n",
       "      <th>Name</th>\n",
       "      <th>Area A (km²)</th>\n",
       "      <th>Census_1991</th>\n",
       "      <th>Census_2001</th>\n",
       "      <th>Census_2011</th>\n",
       "      <th>Census _2022</th>\n",
       "    </tr>\n",
       "  </thead>\n",
       "  <tbody>\n",
       "    <tr>\n",
       "      <th>0</th>\n",
       "      <td>1950</td>\n",
       "      <td>39728535</td>\n",
       "      <td>NaN</td>\n",
       "      <td>Barguna</td>\n",
       "      <td>1,831</td>\n",
       "      <td>775,693</td>\n",
       "      <td>848,554</td>\n",
       "      <td>892,781</td>\n",
       "      <td>1,010,530</td>\n",
       "    </tr>\n",
       "    <tr>\n",
       "      <th>1</th>\n",
       "      <td>1951</td>\n",
       "      <td>40548590</td>\n",
       "      <td>2.06</td>\n",
       "      <td>Barisal</td>\n",
       "      <td>2,785</td>\n",
       "      <td>2,207,426</td>\n",
       "      <td>2,355,967</td>\n",
       "      <td>2,324,310</td>\n",
       "      <td>2,570,450</td>\n",
       "    </tr>\n",
       "    <tr>\n",
       "      <th>2</th>\n",
       "      <td>1952</td>\n",
       "      <td>41426885</td>\n",
       "      <td>2.17</td>\n",
       "      <td>Bhola</td>\n",
       "      <td>3,403</td>\n",
       "      <td>1,476,328</td>\n",
       "      <td>1,703,117</td>\n",
       "      <td>1,776,795</td>\n",
       "      <td>1,932,514</td>\n",
       "    </tr>\n",
       "    <tr>\n",
       "      <th>3</th>\n",
       "      <td>1953</td>\n",
       "      <td>42329279</td>\n",
       "      <td>2.18</td>\n",
       "      <td>Jhalakati</td>\n",
       "      <td>707</td>\n",
       "      <td>666,139</td>\n",
       "      <td>694,231</td>\n",
       "      <td>682,669</td>\n",
       "      <td>661,161</td>\n",
       "    </tr>\n",
       "    <tr>\n",
       "      <th>4</th>\n",
       "      <td>1954</td>\n",
       "      <td>43282032</td>\n",
       "      <td>2.25</td>\n",
       "      <td>Patuakhali</td>\n",
       "      <td>3,221</td>\n",
       "      <td>1,273,872</td>\n",
       "      <td>1,460,781</td>\n",
       "      <td>1,535,854</td>\n",
       "      <td>1,727,254</td>\n",
       "    </tr>\n",
       "  </tbody>\n",
       "</table>\n",
       "</div>"
      ],
      "text/plain": [
       "   Date(Year)  Population  Annual % Change        Name Area A (km²)  \\\n",
       "0        1950    39728535              NaN     Barguna        1,831   \n",
       "1        1951    40548590             2.06     Barisal        2,785   \n",
       "2        1952    41426885             2.17       Bhola        3,403   \n",
       "3        1953    42329279             2.18   Jhalakati          707   \n",
       "4        1954    43282032             2.25  Patuakhali        3,221   \n",
       "\n",
       "   Census_1991 Census_2001  Census_2011  Census _2022  \n",
       "0      775,693     848,554      892,781     1,010,530  \n",
       "1    2,207,426   2,355,967    2,324,310     2,570,450  \n",
       "2    1,476,328   1,703,117    1,776,795     1,932,514  \n",
       "3      666,139     694,231      682,669       661,161  \n",
       "4    1,273,872   1,460,781    1,535,854     1,727,254  "
      ]
     },
     "execution_count": 105,
     "metadata": {},
     "output_type": "execute_result"
    }
   ],
   "source": [
    "df=pd.read_csv(\"Bangladesh_Peopulation - Sheet1.csv\")\n",
    "df.head()\n"
   ]
  },
  {
   "cell_type": "code",
   "execution_count": 106,
   "id": "5fc3bc80",
   "metadata": {},
   "outputs": [
    {
     "data": {
      "text/plain": [
       "Index(['Date(Year)', 'Population', 'Annual % Change', 'Name', 'Area A (km²)',\n",
       "       ' Census_1991', 'Census_2001', ' Census_2011', ' Census _2022'],\n",
       "      dtype='object')"
      ]
     },
     "execution_count": 106,
     "metadata": {},
     "output_type": "execute_result"
    }
   ],
   "source": [
    "#show  all columns\n",
    "df.columns"
   ]
  },
  {
   "cell_type": "code",
   "execution_count": 107,
   "id": "c50da535",
   "metadata": {},
   "outputs": [
    {
     "data": {
      "text/html": [
       "<div>\n",
       "<style scoped>\n",
       "    .dataframe tbody tr th:only-of-type {\n",
       "        vertical-align: middle;\n",
       "    }\n",
       "\n",
       "    .dataframe tbody tr th {\n",
       "        vertical-align: top;\n",
       "    }\n",
       "\n",
       "    .dataframe thead th {\n",
       "        text-align: right;\n",
       "    }\n",
       "</style>\n",
       "<table border=\"1\" class=\"dataframe\">\n",
       "  <thead>\n",
       "    <tr style=\"text-align: right;\">\n",
       "      <th></th>\n",
       "      <th>Date(Year)</th>\n",
       "      <th>Population</th>\n",
       "      <th>Annual % Change</th>\n",
       "    </tr>\n",
       "  </thead>\n",
       "  <tbody>\n",
       "    <tr>\n",
       "      <th>0</th>\n",
       "      <td>1950</td>\n",
       "      <td>39728535</td>\n",
       "      <td>NaN</td>\n",
       "    </tr>\n",
       "    <tr>\n",
       "      <th>1</th>\n",
       "      <td>1951</td>\n",
       "      <td>40548590</td>\n",
       "      <td>2.06</td>\n",
       "    </tr>\n",
       "    <tr>\n",
       "      <th>2</th>\n",
       "      <td>1952</td>\n",
       "      <td>41426885</td>\n",
       "      <td>2.17</td>\n",
       "    </tr>\n",
       "    <tr>\n",
       "      <th>3</th>\n",
       "      <td>1953</td>\n",
       "      <td>42329279</td>\n",
       "      <td>2.18</td>\n",
       "    </tr>\n",
       "    <tr>\n",
       "      <th>4</th>\n",
       "      <td>1954</td>\n",
       "      <td>43282032</td>\n",
       "      <td>2.25</td>\n",
       "    </tr>\n",
       "  </tbody>\n",
       "</table>\n",
       "</div>"
      ],
      "text/plain": [
       "   Date(Year)  Population  Annual % Change\n",
       "0        1950    39728535              NaN\n",
       "1        1951    40548590             2.06\n",
       "2        1952    41426885             2.17\n",
       "3        1953    42329279             2.18\n",
       "4        1954    43282032             2.25"
      ]
     },
     "execution_count": 107,
     "metadata": {},
     "output_type": "execute_result"
    }
   ],
   "source": [
    "\n",
    "\n",
    "# Create the DataFrame df1 with the first three columns\n",
    "df1 = df.iloc[:, :3]\n",
    "df.fillna(0, inplace=True)\n",
    "\n",
    "\n",
    "df1.head()\n"
   ]
  },
  {
   "cell_type": "code",
   "execution_count": 114,
   "id": "9024c0ee",
   "metadata": {},
   "outputs": [
    {
     "data": {
      "image/png": "[encoded data removed]",
      "text/plain": [
       "<Figure size 640x480 with 1 Axes>"
      ]
     },
     "metadata": {},
     "output_type": "display_data"
    }
   ],
   "source": [
    "\n",
    "\n",
    "plt.scatter(df['Date(Year)'], df['Population'], color='green')\n",
    "plt.xlabel(\"Date(Year)\")\n",
    "plt.ylabel(\"Population\")\n",
    "plt.show()\n"
   ]
  },
  {
   "cell_type": "code",
   "execution_count": 121,
   "id": "add6ba51",
   "metadata": {},
   "outputs": [
    {
     "name": "stderr",
     "output_type": "stream",
     "text": [
      "C:\\Users\\kazit\\AppData\\Local\\Temp\\ipykernel_17592\\281173424.py:5: FutureWarning: Dropping of nuisance columns in DataFrame reductions (with 'numeric_only=None') is deprecated; in a future version this will raise TypeError.  Select only valid columns before calling the reduction.\n",
      "  df.fillna(df.mean(), inplace=True)\n"
     ]
    },
    {
     "name": "stdout",
     "output_type": "stream",
     "text": [
      "Enter Year: 2030\n",
      "Predicted population for year 2030\n",
      "Predicted population: 186018699\n",
      "Accuracy percentage: 99.44845544249766\n"
     ]
    },
    {
     "data": {
      "image/png": "[encoded data removed]",
      "text/plain": [
       "<Figure size 640x480 with 1 Axes>"
      ]
     },
     "metadata": {},
     "output_type": "display_data"
    }
   ],
   "source": [
    "\n",
    "\n",
    "# Read the CSV file into DataFrame\n",
    "df = pd.read_csv(\"Bangladesh_Peopulation - Sheet1.csv\")\n",
    "\n",
    "# Replace NaN values with the mean\n",
    "df.fillna(df.mean(), inplace=True)\n",
    "\n",
    "\n",
    "X = df[['Date(Year)']]  # Independent variable (Year)\n",
    "y = df['Population']  # Dependent variable (Population)\n",
    "\n",
    "# Create and fit the linear regression model\n",
    "model = LinearRegression()\n",
    "model.fit(X, y)\n",
    "\n",
    "# Input the year for which you want to predict the population\n",
    "year = int(input(\"Enter Year: \"))\n",
    "input_data = pd.DataFrame({'Date(Year)': [year]})\n",
    "\n",
    "# Predict the population for the given year\n",
    "predicted_population = model.predict(input_data)\n",
    "\n",
    "print(\"Predicted population for year\", year )\n",
    "\n",
    "print(\"Predicted population:\", int(predicted_population))\n",
    "\n",
    "# Calculate the R-squared score (accuracy) of the model\n",
    "accuracy = model.score(X, y) * 100\n",
    "\n",
    "\n",
    "print(\"Accuracy percentage:\", accuracy)\n",
    "\n",
    "\n",
    "# Scatter plot\n",
    "plt.scatter(df['Date(Year)'], df['Population'], color='blue', label='Actual Population')\n",
    "plt.scatter(year, predicted_population, color='red', label='Predicted Population')\n",
    "plt.xlabel(\"Date(Year)\")\n",
    "plt.ylabel(\"Population\")\n",
    "plt.legend()\n",
    "plt.show()\n",
    "\n",
    "\n"
   ]
  },
  {
   "cell_type": "code",
   "execution_count": null,
   "id": "aa51d1d5",
   "metadata": {},
   "outputs": [],
   "source": []
  }
 ],
 "metadata": {
  "kernelspec": {
   "display_name": "Python 3 (ipykernel)",
   "language": "python",
   "name": "python3"
  },
  "language_info": {
   "codemirror_mode": {
    "name": "ipython",
    "version": 3
   },
   "file_extension": ".py",
   "mimetype": "text/x-python",
   "name": "python",
   "nbconvert_exporter": "python",
   "pygments_lexer": "ipython3",
   "version": "3.9.13"
  }
 },
 "nbformat": 4,
 "nbformat_minor": 5
}
